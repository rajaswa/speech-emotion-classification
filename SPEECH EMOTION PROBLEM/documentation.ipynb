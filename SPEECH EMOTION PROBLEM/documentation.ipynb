{
 "cells": [
  {
   "cell_type": "markdown",
   "metadata": {},
   "source": [
    "# EDA"
   ]
  },
  {
   "cell_type": "markdown",
   "metadata": {},
   "source": [
    "    * The dataset is highly imbalanced\n",
    "    * The audio sample lengths are highly varying, with very long and very short samples\n",
    "    * Dataset is not suitable for emotion classification due to audience laughter and various other noises"
   ]
  },
  {
   "cell_type": "markdown",
   "metadata": {},
   "source": [
    "# APPROACHES"
   ]
  },
  {
   "cell_type": "markdown",
   "metadata": {},
   "source": [
    "    * Used and finally submitted MFCC + CNN based approach, with partial downsampled dataset\n",
    "    * Tried to implement MIDAS Paper approach with Bagged SVMs but gave up due to RAM issues\n",
    "    * Tried using imblearn to down sample, gave up due to RAM issues\n",
    "    * CNNs failing to generalize categories well enough\n",
    "    * Tried Feed Forward Networks with no success\n",
    "    * Tried using weighted cross-entropy loss, with no success\n",
    "   "
   ]
  },
  {
   "cell_type": "markdown",
   "metadata": {},
   "source": [
    "## All the plots and visualizations are available in the \"speech_emotion_cnn.ipynb\" notebook"
   ]
  }
 ],
 "metadata": {
  "kernelspec": {
   "display_name": "Python 3",
   "language": "python",
   "name": "python3"
  },
  "language_info": {
   "codemirror_mode": {
    "name": "ipython",
    "version": 3
   },
   "file_extension": ".py",
   "mimetype": "text/x-python",
   "name": "python",
   "nbconvert_exporter": "python",
   "pygments_lexer": "ipython3",
   "version": "3.6.8"
  }
 },
 "nbformat": 4,
 "nbformat_minor": 2
}
